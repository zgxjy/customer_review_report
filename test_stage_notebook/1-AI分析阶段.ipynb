{
 "cells": [
  {
   "cell_type": "markdown",
   "metadata": {},
   "source": [
    "# 问题分析\n",
    "1. 预处理阶段：AI自动打标签\n",
    "   - 好处：快速打标签，提高效率\n",
    "   - 缺点：标签质量参差不齐，需要后续清洗\n",
    "1. 再打标签阶段\n",
    "1. 可视化阶段\n",
    "   - 好处：直观展示数据分布，发现异常\n",
    "   - 缺点：需要专业知识，耗时"
   ]
  },
  {
   "cell_type": "markdown",
   "metadata": {},
   "source": [
    "# 一、准备数据"
   ]
  },
  {
   "cell_type": "code",
   "execution_count": 1,
   "metadata": {},
   "outputs": [],
   "source": [
    "import pymongo\n",
    "import pandas as pd\n",
    "# MongoDB连接配置\n",
    "mongo_client = pymongo.MongoClient(\"mongodb://localhost:27017/\")\n",
    "kinyo_db = mongo_client[\"kinyo_db\"]\n",
    "kinyo_reviews_collection = kinyo_db[\"kinyo_new_reviews\"]\n",
    "kinyo_llm_results_collection = kinyo_db[\"kinyo_llm_results\"]"
   ]
  },
  {
   "cell_type": "markdown",
   "metadata": {},
   "source": [
    "# 二、准备单条数据测试"
   ]
  },
  {
   "cell_type": "markdown",
   "metadata": {},
   "source": [
    "## 1. 构建prompt模板"
   ]
  },
  {
   "cell_type": "code",
   "execution_count": 2,
   "metadata": {},
   "outputs": [],
   "source": [
    "def prepare_system_prompt():\n",
    "    system_prompt = f\"\"\"# 任务目标：\n",
    "精确分析消费者评论并提取结构化信息，具体包括：\n",
    "\n",
    "1. **产品话题细粒度分类**：\n",
    "   - 识别评论中涉及的具体产品特性/功能点\n",
    "   - 将每个话题精确匹配到预定义的细分类别（不创建新类别）\n",
    "   - 提取每个话题的相关文本片段（不超过原文20%长度）\n",
    "   - 为每个匹配提供置信度评分（0.0-1.0）\n",
    "   - 避免过于宽泛的分类，专注于特定产品属性而非一般性描述\n",
    "\n",
    "2. **精确情感分析**：\n",
    "   - 对每个识别的话题进行独立情感判定\n",
    "   - 根据文本强度和明确性区分\"好评\"(明显正面)/\"差评\"(明显负面)/\"中评\"(中性或模糊)\n",
    "   - 考虑上下文和语气，而非仅依靠情感词汇\n",
    "\n",
    "3. **关键词提取**：\n",
    "   - 识别评论中最具信息量和区分度的产品特性词/短语\n",
    "   - 每条评论提取3-5个关键词/短语，保持简洁性\n",
    "   - 优先考虑产品特定词汇而非一般性描述\n",
    "\n",
    "4. **用户画像分析**：\n",
    "   - 仅基于评论中明确提及的信息进行用户特征推断\n",
    "   - 不进行过度推测，无明确信息时保留字段为空\n",
    "\n",
    "# 输出要求：\n",
    "- 以json格式输出，包含以下字段：\n",
    " 1. comment: 原始的评论文本（数据类型：字符串）。\n",
    " 2. product_topic_result: 由匹配的评论片段、话题分类和情感倾向组成的列表，每个元素包含以下四个字段：\n",
    "  - topic：分类话题（数据类型：字符串，来源于预定义的分类列表，不可改变）。\n",
    "  - polarity：情感分析的结果，表示该话题的情感倾向（数据类型：字符串，值为“好评”、“差评”或“中评”）。\n",
    "  - confidence：匹配置信度（数据类型：float）。\n",
    "  - related_text：与话题相关的评论片段（数据类型：字符串）。\n",
    " 3. keyphrases: 从评论中提取的关键词和短语（数据类型：列表）。\n",
    " 4. user_profile: 从评论中提取的用户画像特征（数据类型：字典），包含年龄、性别、职业、消费场景、消费需求,没有判断出来的时候就是空:\n",
    "  - gender: 用户性别（男|女,数据类型：字符串）。\n",
    "  - occupation: 用户职业（数据类型：字符串）。\n",
    "  - consumption_scene: 用户消费场景（数据类型：字符串）。\n",
    "  - consumption_motivation: 用户消费动机（数据类型：字符串）。\n",
    "  - consumption_frequency: 用户消费频率（数据类型：字符串）,首次|复购|高频。\n",
    "  - consumption_satisfaction: 用户最满意的特点（数据类型：字符串）。\n",
    "  - consumption_unsatisfaction: 用户最不满意的特点（数据类型：字符串）。\n",
    "\"\"\"\n",
    "    return system_prompt"
   ]
  },
  {
   "cell_type": "code",
   "execution_count": 3,
   "metadata": {},
   "outputs": [
    {
     "name": "stdout",
     "output_type": "stream",
     "text": [
      "# 任务目标：\n",
      "精确分析消费者评论并提取结构化信息，具体包括：\n",
      "\n",
      "1. **产品话题细粒度分类**：\n",
      "   - 识别评论中涉及的具体产品特性/功能点\n",
      "   - 将每个话题精确匹配到预定义的细分类别（不创建新类别）\n",
      "   - 提取每个话题的相关文本片段（不超过原文20%长度）\n",
      "   - 为每个匹配提供置信度评分（0.0-1.0）\n",
      "   - 避免过于宽泛的分类，专注于特定产品属性而非一般性描述\n",
      "\n",
      "2. **精确情感分析**：\n",
      "   - 对每个识别的话题进行独立情感判定\n",
      "   - 根据文本强度和明确性区分\"好评\"(明显正面)/\"差评\"(明显负面)/\"中评\"(中性或模糊)\n",
      "   - 考虑上下文和语气，而非仅依靠情感词汇\n",
      "\n",
      "3. **关键词提取**：\n",
      "   - 识别评论中最具信息量和区分度的产品特性词/短语\n",
      "   - 每条评论提取3-5个关键词/短语，保持简洁性\n",
      "   - 优先考虑产品特定词汇而非一般性描述\n",
      "\n",
      "4. **用户画像分析**：\n",
      "   - 仅基于评论中明确提及的信息进行用户特征推断\n",
      "   - 不进行过度推测，无明确信息时保留字段为空\n",
      "\n",
      "# 输出要求：\n",
      "- 以json格式输出，包含以下字段：\n",
      " 1. comment: 原始的评论文本（数据类型：字符串）。\n",
      " 2. product_topic_result: 由匹配的评论片段、话题分类和情感倾向组成的列表，每个元素包含以下四个字段：\n",
      "  - topic：分类话题（数据类型：字符串，来源于预定义的分类列表，不可改变）。\n",
      "  - polarity：情感分析的结果，表示该话题的情感倾向（数据类型：字符串，值为“好评”、“差评”或“中评”）。\n",
      "  - confidence：匹配置信度（数据类型：float）。\n",
      "  - related_text：与话题相关的评论片段（数据类型：字符串）。\n",
      " 3. keyphrases: 从评论中提取的关键词和短语（数据类型：列表）。\n",
      " 4. user_profile: 从评论中提取的用户画像特征（数据类型：字典），包含年龄、性别、职业、消费场景、消费需求,没有判断出来的时候就是空:\n",
      "  - gender: 用户性别（男|女,数据类型：字符串）。\n",
      "  - occupation: 用户职业（数据类型：字符串）。\n",
      "  - consumption_scene: 用户消费场景（数据类型：字符串）。\n",
      "  - consumption_motivation: 用户消费动机（数据类型：字符串）。\n",
      "  - consumption_frequency: 用户消费频率（数据类型：字符串）,首次|复购|高频。\n",
      "  - consumption_satisfaction: 用户最满意的特点（数据类型：字符串）。\n",
      "  - consumption_unsatisfaction: 用户最不满意的特点（数据类型：字符串）。\n",
      "\n"
     ]
    }
   ],
   "source": [
    "print(prepare_system_prompt())"
   ]
  },
  {
   "cell_type": "code",
   "execution_count": 4,
   "metadata": {},
   "outputs": [],
   "source": [
    "def prepare_user_prompt(review_str,product_name):\n",
    "    user_prompt = f\"\"\"# 客户评论：\n",
    "- {review_str}\n",
    "# 产品名称：\n",
    "- {product_name}\n",
    "\"\"\"\n",
    "    return user_prompt"
   ]
  },
  {
   "cell_type": "code",
   "execution_count": 5,
   "metadata": {},
   "outputs": [],
   "source": [
    "# imports\n",
    "import ast  # for converting embeddings saved as strings back to arrays\n",
    "from openai import OpenAI # for calling the OpenAI API\n",
    "import pandas as pd  # for storing text and embeddings data\n",
    "import tiktoken  # for counting tokens\n",
    "import os # for getting API token from env variable OPENAI_API_KEY\n",
    "from scipy import spatial  # for calculating vector similarities for search\n",
    "import json\n",
    "# create a list of models \n",
    "GPT_MODELS = [\"gpt-4o\", \"gpt-4o-mini\"]\n",
    "# models\n",
    "EMBEDDING_MODEL = \"text-embedding-3-small\""
   ]
  },
  {
   "cell_type": "code",
   "execution_count": 6,
   "metadata": {},
   "outputs": [],
   "source": [
    "# Set the proxy URL and port\n",
    "proxy_url = 'http://127.0.0.1'\n",
    "proxy_port = 6465 # !!!please replace it with your own port\n",
    "\n",
    "# Set the http_proxy and https_proxy environment variables\n",
    "os.environ['http_proxy'] = f'{proxy_url}:{proxy_port}'\n",
    "os.environ['https_proxy'] = f'{proxy_url}:{proxy_port}'\n",
    "\n",
    "client = OpenAI(api_key=os.getenv('OPEN_AI_KEY'))"
   ]
  },
  {
   "cell_type": "markdown",
   "metadata": {},
   "source": [
    "## 2. 调用模型获取结果"
   ]
  },
  {
   "cell_type": "code",
   "execution_count": 7,
   "metadata": {},
   "outputs": [],
   "source": [
    "from typing import Dict, Any  # 添加类型注解导入\n",
    "# 调用模型获取结果\n",
    "def get_first_label_response(review: Dict[str, Any],model:str=\"gpt-4o-mini\"):\n",
    "    review_str = review['评论']\n",
    "    product_name = review['商品名称']\n",
    "    try:\n",
    "        response = client.chat.completions.create(\n",
    "            model=model,\n",
    "            messages=[\n",
    "                {\"role\": \"system\", \"content\": prepare_system_prompt()},\n",
    "                {\"role\": \"user\", \"content\": prepare_user_prompt(review_str=review_str,product_name=product_name)}\n",
    "            ],\n",
    "            stream=False,\n",
    "            response_format={'type': 'json_object'}\n",
    "        )\n",
    "\n",
    "        # 获取 token 消耗数量\n",
    "        token_usage = response.usage.total_tokens if hasattr(response, 'usage') else None\n",
    "        # 解析内容\n",
    "        content = response.choices[0].message.content\n",
    "        parsed_content = json.loads(content)  # 解析内容\n",
    "        parsed_content['token_usage'] = token_usage\n",
    "        parsed_content[\"review_id\"] = review[\"review_id\"]\n",
    "        return parsed_content\n",
    "    except Exception as e:\n",
    "        print(f\"Error: {e}\")\n",
    "        return None"
   ]
  },
  {
   "cell_type": "code",
   "execution_count": 8,
   "metadata": {},
   "outputs": [
    {
     "name": "stdout",
     "output_type": "stream",
     "text": [
      "{'_id': ObjectId('6805e4d8c865ccb2f135a697'), '评论': '暂时没发现问题，当时感觉声音一般', '商品规格': '热销无线领夹版丨粉色', '评论时间': '2025-04-06', '评论来源': '四川', '客户ID': ' s***n', '商品SKU': 100133339041, '来源平台': '京东', '来源品牌': '索爱', '数据类型': '竞品', '商品名称': ' 索爱（soaiy）655无线磁吸领夹小蜜蜂扩音器教师专用蓝牙音箱音响防啸叫TF卡喇叭磁吸麦克风导游户外便携式 粉', '来源店铺': '索爱影音京东自营官方旗舰店', 'review_id': '530ac911-9f28-4086-a8a2-f5effc03f2eb'}\n"
     ]
    }
   ],
   "source": [
    "# 随机获取一个评论\n",
    "random_review = kinyo_reviews_collection.aggregate([{ \"$sample\": { \"size\": 1 } }])\n",
    "random_review_doc = next(random_review, None)  # 获取第一个结果，如果没有则返回None\n",
    "\n",
    "# 如果需要打印出来看结果\n",
    "if random_review_doc:\n",
    "    print(random_review_doc)"
   ]
  },
  {
   "cell_type": "code",
   "execution_count": 9,
   "metadata": {},
   "outputs": [
    {
     "data": {
      "text/plain": [
       "{'comment': '暂时没发现问题，当时感觉声音一般',\n",
       " 'product_topic_result': [{'topic': '音质',\n",
       "   'polarity': '中评',\n",
       "   'confidence': 0.7,\n",
       "   'related_text': '声音一般'}],\n",
       " 'keyphrases': ['声音', '音质', '问题'],\n",
       " 'user_profile': {'gender': '',\n",
       "  'occupation': '',\n",
       "  'consumption_scene': '',\n",
       "  'consumption_motivation': '',\n",
       "  'consumption_frequency': '',\n",
       "  'consumption_satisfaction': '',\n",
       "  'consumption_unsatisfaction': ''},\n",
       " 'token_usage': 928,\n",
       " 'review_id': '530ac911-9f28-4086-a8a2-f5effc03f2eb'}"
      ]
     },
     "execution_count": 9,
     "metadata": {},
     "output_type": "execute_result"
    }
   ],
   "source": [
    "get_first_label_response(random_review_doc)"
   ]
  },
  {
   "cell_type": "markdown",
   "metadata": {},
   "source": [
    "# 三、准备批量分析"
   ]
  },
  {
   "cell_type": "code",
   "execution_count": 73,
   "metadata": {},
   "outputs": [],
   "source": [
    "from typing import List, Dict, Any, Optional\n",
    "from concurrent.futures import ThreadPoolExecutor, as_completed\n",
    "from tqdm import tqdm\n",
    "\n",
    "def multi_process_reviews(\n",
    "    reviews: List[Dict[str, Any]],\n",
    "    max_workers: int = 4,\n",
    "    show_progress: bool = True,\n",
    "    model: str = \"gpt-4o-mini\",\n",
    "    solution: str = \"AI自打标\",\n",
    "    test_version: str = \"1\",\n",
    "    collection_name: str = \"kinyo_llm_results\",\n",
    "    test_mode: bool = True\n",
    ") -> List[Dict[str, Any]]:\n",
    "    \n",
    "    \"\"\"\n",
    "    并行处理评论并存储结果。\n",
    "\n",
    "    参数:\n",
    "        reviews: 评论数据列表\n",
    "        max_workers: 最大线程数\n",
    "        show_progress: 是否显示进度条\n",
    "        model: 使用的模型\n",
    "        solution: 解决方案\n",
    "        test_version: 测试版本\n",
    "        collection_name: 数据库集合名称\n",
    "        test_mode: 测试模式(True/False)，测试模式不存储结果\n",
    "\n",
    "    返回:\n",
    "        List[Dict[str, Any]]: 处理结果列表\n",
    "    \"\"\"\n",
    "\n",
    "    # 初始化结果列表\n",
    "    results = []\n",
    "    # 创建线程池\n",
    "    with ThreadPoolExecutor(max_workers=max_workers) as executor:\n",
    "        # 提交任务\n",
    "        futures = [executor.submit(get_first_label_response, review, model) for review in reviews]\n",
    "        # 获取结果\n",
    "        for future in tqdm(as_completed(futures), total=len(futures), disable=not show_progress):\n",
    "            result = future.result()\n",
    "            if result:\n",
    "                result[\"test_version\"] = test_version\n",
    "                result[\"solution\"] = solution\n",
    "                result[\"model\"] = model\n",
    "                results.append(result)\n",
    "                if not test_mode:\n",
    "                    # 存储结果\n",
    "                    collection_name.insert_one(result)\n",
    "    return results"
   ]
  },
  {
   "cell_type": "code",
   "execution_count": 74,
   "metadata": {},
   "outputs": [
    {
     "name": "stderr",
     "output_type": "stream",
     "text": [
      "100%|██████████| 1/1 [00:06<00:00,  6.58s/it]"
     ]
    },
    {
     "name": "stdout",
     "output_type": "stream",
     "text": [
      "结果 1:\n",
      "{\n",
      "  \"comment\": \"小巧精致，方便好用，不错！\",\n",
      "  \"product_topic_result\": [\n",
      "    {\n",
      "      \"topic\": \"产品尺寸\",\n",
      "      \"polarity\": \"好评\",\n",
      "      \"confidence\": 0.9,\n",
      "      \"related_text\": \"小巧精致\"\n",
      "    },\n",
      "    {\n",
      "      \"topic\": \"便携性\",\n",
      "      \"polarity\": \"好评\",\n",
      "      \"confidence\": 0.85,\n",
      "      \"related_text\": \"方便好用\"\n",
      "    }\n",
      "  ],\n",
      "  \"keyphrases\": [\n",
      "    \"小巧\",\n",
      "    \"精致\",\n",
      "    \"方便\",\n",
      "    \"好用\"\n",
      "  ],\n",
      "  \"user_profile\": {\n",
      "    \"gender\": \"\",\n",
      "    \"occupation\": \"\",\n",
      "    \"consumption_scene\": \"\",\n",
      "    \"consumption_motivation\": \"\",\n",
      "    \"consumption_frequency\": \"\",\n",
      "    \"consumption_satisfaction\": \"\",\n",
      "    \"consumption_unsatisfaction\": \"\"\n",
      "  },\n",
      "  \"token_usage\": 977,\n",
      "  \"review_id\": \"13d2595c-562b-480c-b14f-1de9d96b7902\",\n",
      "  \"test_version\": \"1\",\n",
      "  \"solution\": \"AI自打标\",\n",
      "  \"model\": \"gpt-4o-mini\"\n",
      "}\n",
      "--------------------------------------------------\n"
     ]
    },
    {
     "name": "stderr",
     "output_type": "stream",
     "text": [
      "\n"
     ]
    }
   ],
   "source": [
    "# 测试一下：\n",
    "# 随机获取10条评论作为测试数据\n",
    "test_reviews = list(kinyo_reviews_collection.aggregate([{ \"$sample\": { \"size\": 1 } }]))\n",
    "\n",
    "# 执行批量处理（测试模式不存储结果）\n",
    "test_results = multi_process_reviews(\n",
    "    reviews=test_reviews,\n",
    "    max_workers=4,\n",
    "    model=\"gpt-4o-mini\",\n",
    "    test_mode=True,\n",
    "    collection_name=\"kinyo_llm_results\",\n",
    "    test_version=\"1\",\n",
    "    solution=\"AI自打标\"\n",
    ")\n",
    "\n",
    "# 打印前3条结果查看\n",
    "for i, result in enumerate(test_results[:3]):\n",
    "    print(f\"结果 {i+1}:\")\n",
    "    print(json.dumps(result, indent=2, ensure_ascii=False))\n",
    "    print(\"-\"*50)"
   ]
  },
  {
   "cell_type": "code",
   "execution_count": 75,
   "metadata": {},
   "outputs": [],
   "source": [
    "# 获取系统的 CPU 核心数\n",
    "cpu_count = os.cpu_count()\n",
    "default_max_workers = cpu_count * 5  # 默认线程数\n",
    "# 设置新的 max_workers，增加 1.2 倍的线程数并转换为整数\n",
    "new_max_workers = int(default_max_workers * 1.3)"
   ]
  },
  {
   "cell_type": "code",
   "execution_count": 76,
   "metadata": {},
   "outputs": [
    {
     "name": "stdout",
     "output_type": "stream",
     "text": [
      "结果 1:\n",
      "{\n",
      "  \"comment\": \"小巧精致，方便好用，不错！\",\n",
      "  \"product_topic_result\": [\n",
      "    {\n",
      "      \"topic\": \"产品尺寸\",\n",
      "      \"polarity\": \"好评\",\n",
      "      \"confidence\": 0.9,\n",
      "      \"related_text\": \"小巧精致\"\n",
      "    },\n",
      "    {\n",
      "      \"topic\": \"便携性\",\n",
      "      \"polarity\": \"好评\",\n",
      "      \"confidence\": 0.85,\n",
      "      \"related_text\": \"方便好用\"\n",
      "    }\n",
      "  ],\n",
      "  \"keyphrases\": [\n",
      "    \"小巧\",\n",
      "    \"精致\",\n",
      "    \"方便\",\n",
      "    \"好用\"\n",
      "  ],\n",
      "  \"user_profile\": {\n",
      "    \"gender\": \"\",\n",
      "    \"occupation\": \"\",\n",
      "    \"consumption_scene\": \"\",\n",
      "    \"consumption_motivation\": \"\",\n",
      "    \"consumption_frequency\": \"\",\n",
      "    \"consumption_satisfaction\": \"\",\n",
      "    \"consumption_unsatisfaction\": \"\"\n",
      "  },\n",
      "  \"token_usage\": 977,\n",
      "  \"review_id\": \"13d2595c-562b-480c-b14f-1de9d96b7902\",\n",
      "  \"test_version\": \"1\",\n",
      "  \"solution\": \"AI自打标\",\n",
      "  \"model\": \"gpt-4o-mini\"\n",
      "}\n",
      "--------------------------------------------------\n"
     ]
    }
   ],
   "source": [
    "import json\n",
    "from bson import ObjectId\n",
    "\n",
    "def convert_objid(obj):\n",
    "    if isinstance(obj, dict):\n",
    "        return {k: convert_objid(v) for k, v in obj.items()}\n",
    "    elif isinstance(obj, list):\n",
    "        return [convert_objid(i) for i in obj]\n",
    "    elif isinstance(obj, ObjectId):\n",
    "        return str(obj)\n",
    "    else:\n",
    "        return obj\n",
    "\n",
    "# 打印前3条结果查看\n",
    "for i, result in enumerate(test_results[:3]):\n",
    "    print(f\"结果 {i+1}:\")\n",
    "    print(json.dumps(convert_objid(result), indent=2, ensure_ascii=False))\n",
    "    print(\"-\"*50)"
   ]
  },
  {
   "cell_type": "code",
   "execution_count": 77,
   "metadata": {},
   "outputs": [
    {
     "name": "stdout",
     "output_type": "stream",
     "text": [
      "总评论数: 1399, 已处理: 0, 待处理: 1399\n"
     ]
    },
    {
     "name": "stderr",
     "output_type": "stream",
     "text": [
      "100%|██████████| 1399/1399 [03:19<00:00,  7.00it/s]"
     ]
    },
    {
     "name": "stdout",
     "output_type": "stream",
     "text": [
      "结果 1:\n",
      "{\n",
      "  \"comment\": \"物流速度很快\",\n",
      "  \"product_topic_result\": [\n",
      "    {\n",
      "      \"topic\": \"物流\",\n",
      "      \"polarity\": \"好评\",\n",
      "      \"confidence\": 0.9,\n",
      "      \"related_text\": \"物流速度很快\"\n",
      "    }\n",
      "  ],\n",
      "  \"keyphrases\": [\n",
      "    \"物流\",\n",
      "    \"速度\",\n",
      "    \"很快\"\n",
      "  ],\n",
      "  \"user_profile\": {\n",
      "    \"gender\": \"\",\n",
      "    \"occupation\": \"\",\n",
      "    \"consumption_scene\": \"\",\n",
      "    \"consumption_motivation\": \"\",\n",
      "    \"consumption_frequency\": \"\",\n",
      "    \"consumption_satisfaction\": \"\",\n",
      "    \"consumption_unsatisfaction\": \"\"\n",
      "  },\n",
      "  \"token_usage\": 917,\n",
      "  \"review_id\": \"a20ff86a-ac32-4a47-aa9c-c1d57282274c\",\n",
      "  \"test_version\": \"1\",\n",
      "  \"solution\": \"AI自打标：不限定\",\n",
      "  \"model\": \"gpt-4o-mini\",\n",
      "  \"_id\": \"68088d7601cdec7281c92a47\"\n",
      "}\n",
      "--------------------------------------------------\n",
      "结果 2:\n",
      "{\n",
      "  \"comment\": \"老师的下小助手\",\n",
      "  \"product_topic_result\": [],\n",
      "  \"keyphrases\": [],\n",
      "  \"user_profile\": {\n",
      "    \"gender\": \"\",\n",
      "    \"occupation\": \"老师\",\n",
      "    \"consumption_scene\": \"\",\n",
      "    \"consumption_motivation\": \"\",\n",
      "    \"consumption_frequency\": \"\",\n",
      "    \"consumption_satisfaction\": \"\",\n",
      "    \"consumption_unsatisfaction\": \"\"\n",
      "  },\n",
      "  \"token_usage\": 864,\n",
      "  \"review_id\": \"5bc677ce-6e8c-454d-af13-9cfabd5b9519\",\n",
      "  \"test_version\": \"1\",\n",
      "  \"solution\": \"AI自打标：不限定\",\n",
      "  \"model\": \"gpt-4o-mini\",\n",
      "  \"_id\": \"68088d7601cdec7281c92a48\"\n",
      "}\n",
      "--------------------------------------------------\n",
      "结果 3:\n",
      "{\n",
      "  \"comment\": \"这款小蜜蜂扩音器体积小巧，方便随身携带，满足我各种场合的使用，收音效果也是非常不错的\",\n",
      "  \"product_topic_result\": [\n",
      "    {\n",
      "      \"topic\": \"便携性\",\n",
      "      \"polarity\": \"好评\",\n",
      "      \"confidence\": 0.9,\n",
      "      \"related_text\": \"体积小巧，方便随身携带\"\n",
      "    },\n",
      "    {\n",
      "      \"topic\": \"音质\",\n",
      "      \"polarity\": \"好评\",\n",
      "      \"confidence\": 0.85,\n",
      "      \"related_text\": \"收音效果也是非常不错的\"\n",
      "    }\n",
      "  ],\n",
      "  \"keyphrases\": [\n",
      "    \"小蜜蜂扩音器\",\n",
      "    \"体积小巧\",\n",
      "    \"方便随身携带\",\n",
      "    \"收音效果\",\n",
      "    \"各种场合\"\n",
      "  ],\n",
      "  \"user_profile\": {\n",
      "    \"gender\": \"\",\n",
      "    \"occupation\": \"\",\n",
      "    \"consumption_scene\": \"各种场合\",\n",
      "    \"consumption_motivation\": \"\",\n",
      "    \"consumption_frequency\": \"\",\n",
      "    \"consumption_satisfaction\": \"便携性，音质\",\n",
      "    \"consumption_unsatisfaction\": \"\"\n",
      "  },\n",
      "  \"token_usage\": 1039,\n",
      "  \"review_id\": \"9a77524d-e75e-45e1-9ebf-cdb71f6b5073\",\n",
      "  \"test_version\": \"1\",\n",
      "  \"solution\": \"AI自打标：不限定\",\n",
      "  \"model\": \"gpt-4o-mini\",\n",
      "  \"_id\": \"68088d7601cdec7281c92a49\"\n",
      "}\n",
      "--------------------------------------------------\n"
     ]
    },
    {
     "name": "stderr",
     "output_type": "stream",
     "text": [
      "\n"
     ]
    }
   ],
   "source": [
    "# 获取已处理的评论ID集合\n",
    "# 设置当前实验的 test_version 和 solution\n",
    "current_test_version = \"1\"\n",
    "current_solution = \"AI自打标：不限定\"\n",
    "\n",
    "# 获取已处理的评论ID集合（加过滤条件）\n",
    "have_done_reviews = set(\n",
    "    kinyo_llm_results_collection.distinct(\n",
    "        \"review_id\",\n",
    "        {\n",
    "            \"test_version\": current_test_version,\n",
    "            \"solution\": current_solution\n",
    "        }\n",
    "    )\n",
    ")\n",
    "# 获取所有评论，并在内存中筛选\n",
    "all_reviews_temp = list(kinyo_reviews_collection.find({}))\n",
    "all_reviews = []\n",
    "\n",
    "for review in all_reviews_temp:\n",
    "    # 将ObjectId转为字符串进行比较\n",
    "    review_id_str = str(review[\"review_id\"])\n",
    "    if review_id_str not in have_done_reviews:\n",
    "        all_reviews.append(review)\n",
    "\n",
    "print(f\"总评论数: {len(all_reviews_temp)}, 已处理: {len(have_done_reviews)}, 待处理: {len(all_reviews)}\")\n",
    "\n",
    "# 执行批量处理（测试模式不存储结果）\n",
    "test_results = multi_process_reviews(\n",
    "    reviews=all_reviews,\n",
    "    max_workers=new_max_workers,\n",
    "    model=\"gpt-4o-mini\",\n",
    "    test_mode=False,\n",
    "    collection_name=kinyo_llm_results_collection,\n",
    "    test_version=current_test_version,\n",
    "    solution=current_solution\n",
    ")\n",
    "\n",
    "# 打印前3条结果查看\n",
    "for i, result in enumerate(test_results[:3]):\n",
    "    print(f\"结果 {i+1}:\")\n",
    "    print(json.dumps(convert_objid(result), indent=2, ensure_ascii=False))\n",
    "    print(\"-\"*50)"
   ]
  },
  {
   "cell_type": "code",
   "execution_count": 78,
   "metadata": {},
   "outputs": [
    {
     "name": "stdout",
     "output_type": "stream",
     "text": [
      "修改了 0 条记录。\n"
     ]
    }
   ],
   "source": [
    "# 批量重命名字段 product_product_topic_result 为 product_topic_result\n",
    "result = kinyo_llm_results_collection.update_many(\n",
    "    {\"product_product_topic_result\": {\"$exists\": True}},\n",
    "    {\"$rename\": {\"product_product_topic_result\": \"product_topic_result\"}}\n",
    ")\n",
    "\n",
    "print(f\"修改了 {result.modified_count} 条记录。\")"
   ]
  },
  {
   "cell_type": "markdown",
   "metadata": {},
   "source": [
    "# 四、数据分析"
   ]
  },
  {
   "cell_type": "code",
   "execution_count": 79,
   "metadata": {},
   "outputs": [],
   "source": [
    "import pymongo\n",
    "import pandas as pd\n",
    "# MongoDB连接配置\n",
    "mongo_client = pymongo.MongoClient(\"mongodb://localhost:27017/\")\n",
    "kinyo_db = mongo_client[\"kinyo_db\"]\n",
    "kinyo_reviews_collection = kinyo_db[\"kinyo_new_reviews\"]\n",
    "kinyo_llm_results_collection = kinyo_db[\"kinyo_llm_results\"]"
   ]
  },
  {
   "cell_type": "code",
   "execution_count": 80,
   "metadata": {},
   "outputs": [],
   "source": [
    "import matplotlib.pyplot as plt\n",
    "plt.rcParams['font.sans-serif'] = ['SimHei']  # 设置中文字体为黑体\n",
    "plt.rcParams['axes.unicode_minus'] = False    # 正常显示负号"
   ]
  },
  {
   "cell_type": "code",
   "execution_count": null,
   "metadata": {},
   "outputs": [
    {
     "name": "stdout",
     "output_type": "stream",
     "text": [
      "test_version: 1\n",
      "solution: AI自打标：不限定\n"
     ]
    }
   ],
   "source": [
    "# 获取已处理的评论ID集合\n",
    "# 设置当前实验的 test_version 和 solution\n",
    "current_test_version = \"1\"\n",
    "current_solution = \"AI自打标：不限定\"\n",
    "print(\"test_version:\", current_test_version)\n",
    "print(\"solution:\", current_solution)\n",
    "review_result_df = pd.DataFrame(list(kinyo_llm_results_collection.find({\"test_version\": current_test_version, \"solution\": current_solution})))"
   ]
  },
  {
   "cell_type": "code",
   "execution_count": 82,
   "metadata": {},
   "outputs": [
    {
     "name": "stdout",
     "output_type": "stream",
     "text": [
      "总行数为： 1399\n",
      "话题打开后总行数为： 3982\n"
     ]
    }
   ],
   "source": [
    "# 根据 topics列表进行展开\n",
    "review_result_df_exploded = review_result_df.explode('product_topic_result').reset_index(drop=True)\n",
    "# 给 fina_data_df_exploded中的topic_reslut 把NaN替换为空字典\n",
    "review_result_df_exploded['product_topic_result'] = review_result_df_exploded['product_topic_result'].apply(lambda x: {} if pd.isna(x) else x)\n",
    "# 将 review_result_df_exploded 转换为字典\n",
    "final_data_dict = review_result_df_exploded.to_dict('records')\n",
    "# 将 review_result_df_exploded 的product_topic_result 没有包含topic，related_comment，polarity这三个key的数据添加这些key，并把值设置为空字符串\n",
    "for i in range(len(final_data_dict)):\n",
    "    if 'topic' not in final_data_dict[i]['product_topic_result']:\n",
    "        final_data_dict[i]['product_topic_result']['topic'] = ''\n",
    "    if 'related_comment' not in final_data_dict[i]['product_topic_result']:\n",
    "        final_data_dict[i]['product_topic_result']['related_comment'] = ''\n",
    "    if 'polarity' not in final_data_dict[i]['product_topic_result']:\n",
    "        final_data_dict[i]['product_topic_result']['polarity'] = ''\n",
    "# 将 final_data_dict 转换为 DataFrame\n",
    "review_result_df_exploded = pd.DataFrame(final_data_dict)\n",
    "# 将product_topic_result中的topic，related_comment，polarity转换为列变量\n",
    "review_result_df_topic_exploded = pd.concat([review_result_df_exploded, review_result_df_exploded['product_topic_result'].apply(pd.Series)], axis=1)\n",
    "# 删除product_topic_result列\n",
    "print(\"总行数为：\", len(review_result_df))\n",
    "print(\"话题打开后总行数为：\", len(review_result_df_topic_exploded))"
   ]
  },
  {
   "cell_type": "markdown",
   "metadata": {},
   "source": [
    "* 补充商品信息"
   ]
  },
  {
   "cell_type": "code",
   "execution_count": 83,
   "metadata": {},
   "outputs": [],
   "source": [
    "kinyo_reviews_df = pd.DataFrame(kinyo_reviews_collection.find({}))"
   ]
  },
  {
   "cell_type": "code",
   "execution_count": 84,
   "metadata": {},
   "outputs": [],
   "source": [
    "review_result_df_profile_exploded = pd.merge(\n",
    "    kinyo_reviews_df,\n",
    "    review_result_df_topic_exploded,\n",
    "    on='review_id',\n",
    "    how='left'  # 可选：'inner', 'left', 'right', 'outer'\n",
    ")"
   ]
  },
  {
   "cell_type": "code",
   "execution_count": 85,
   "metadata": {},
   "outputs": [
    {
     "data": {
      "text/plain": [
       "Index(['_id_x', '评论', '商品规格', '评论时间', '评论来源', '客户ID', '商品SKU', '来源平台', '来源品牌',\n",
       "       '数据类型', '商品名称', '来源店铺', 'review_id', '_id_y', 'comment',\n",
       "       'product_topic_result', 'keyphrases', 'user_profile', 'token_usage',\n",
       "       'test_version', 'solution', 'model', 'topic', 'polarity', 'confidence',\n",
       "       'related_text', 'related_comment'],\n",
       "      dtype='object')"
      ]
     },
     "execution_count": 85,
     "metadata": {},
     "output_type": "execute_result"
    }
   ],
   "source": [
    "review_result_df_profile_exploded.columns"
   ]
  },
  {
   "cell_type": "code",
   "execution_count": 86,
   "metadata": {},
   "outputs": [
    {
     "data": {
      "text/html": [
       "<div>\n",
       "<style scoped>\n",
       "    .dataframe tbody tr th:only-of-type {\n",
       "        vertical-align: middle;\n",
       "    }\n",
       "\n",
       "    .dataframe tbody tr th {\n",
       "        vertical-align: top;\n",
       "    }\n",
       "\n",
       "    .dataframe thead th {\n",
       "        text-align: right;\n",
       "    }\n",
       "</style>\n",
       "<table border=\"1\" class=\"dataframe\">\n",
       "  <thead>\n",
       "    <tr style=\"text-align: right;\">\n",
       "      <th></th>\n",
       "      <th>_id</th>\n",
       "      <th>comment</th>\n",
       "      <th>product_topic_result</th>\n",
       "      <th>keyphrases</th>\n",
       "      <th>user_profile</th>\n",
       "      <th>token_usage</th>\n",
       "      <th>review_id</th>\n",
       "      <th>test_version</th>\n",
       "      <th>solution</th>\n",
       "      <th>model</th>\n",
       "      <th>topic</th>\n",
       "      <th>polarity</th>\n",
       "      <th>confidence</th>\n",
       "      <th>related_text</th>\n",
       "      <th>related_comment</th>\n",
       "    </tr>\n",
       "  </thead>\n",
       "  <tbody>\n",
       "    <tr>\n",
       "      <th>0</th>\n",
       "      <td>68088d7601cdec7281c92a47</td>\n",
       "      <td>物流速度很快</td>\n",
       "      <td>{'topic': '物流', 'polarity': '好评', 'confidence'...</td>\n",
       "      <td>[物流, 速度, 很快]</td>\n",
       "      <td>{'gender': '', 'occupation': '', 'consumption_...</td>\n",
       "      <td>917</td>\n",
       "      <td>a20ff86a-ac32-4a47-aa9c-c1d57282274c</td>\n",
       "      <td>1</td>\n",
       "      <td>AI自打标：不限定</td>\n",
       "      <td>gpt-4o-mini</td>\n",
       "      <td>物流</td>\n",
       "      <td>好评</td>\n",
       "      <td>0.9</td>\n",
       "      <td>物流速度很快</td>\n",
       "      <td></td>\n",
       "    </tr>\n",
       "    <tr>\n",
       "      <th>1</th>\n",
       "      <td>68088d7601cdec7281c92a48</td>\n",
       "      <td>老师的下小助手</td>\n",
       "      <td>{'topic': '', 'related_comment': '', 'polarity...</td>\n",
       "      <td>[]</td>\n",
       "      <td>{'gender': '', 'occupation': '老师', 'consumptio...</td>\n",
       "      <td>864</td>\n",
       "      <td>5bc677ce-6e8c-454d-af13-9cfabd5b9519</td>\n",
       "      <td>1</td>\n",
       "      <td>AI自打标：不限定</td>\n",
       "      <td>gpt-4o-mini</td>\n",
       "      <td></td>\n",
       "      <td></td>\n",
       "      <td>NaN</td>\n",
       "      <td>NaN</td>\n",
       "      <td></td>\n",
       "    </tr>\n",
       "    <tr>\n",
       "      <th>2</th>\n",
       "      <td>68088d7601cdec7281c92a49</td>\n",
       "      <td>这款小蜜蜂扩音器体积小巧，方便随身携带，满足我各种场合的使用，收音效果也是非常不错的</td>\n",
       "      <td>{'topic': '便携性', 'polarity': '好评', 'confidence...</td>\n",
       "      <td>[小蜜蜂扩音器, 体积小巧, 方便随身携带, 收音效果, 各种场合]</td>\n",
       "      <td>{'gender': '', 'occupation': '', 'consumption_...</td>\n",
       "      <td>1039</td>\n",
       "      <td>9a77524d-e75e-45e1-9ebf-cdb71f6b5073</td>\n",
       "      <td>1</td>\n",
       "      <td>AI自打标：不限定</td>\n",
       "      <td>gpt-4o-mini</td>\n",
       "      <td>便携性</td>\n",
       "      <td>好评</td>\n",
       "      <td>0.9</td>\n",
       "      <td>体积小巧，方便随身携带</td>\n",
       "      <td></td>\n",
       "    </tr>\n",
       "  </tbody>\n",
       "</table>\n",
       "</div>"
      ],
      "text/plain": [
       "                        _id                                     comment  \\\n",
       "0  68088d7601cdec7281c92a47                                      物流速度很快   \n",
       "1  68088d7601cdec7281c92a48                                     老师的下小助手   \n",
       "2  68088d7601cdec7281c92a49  这款小蜜蜂扩音器体积小巧，方便随身携带，满足我各种场合的使用，收音效果也是非常不错的   \n",
       "\n",
       "                                product_topic_result  \\\n",
       "0  {'topic': '物流', 'polarity': '好评', 'confidence'...   \n",
       "1  {'topic': '', 'related_comment': '', 'polarity...   \n",
       "2  {'topic': '便携性', 'polarity': '好评', 'confidence...   \n",
       "\n",
       "                           keyphrases  \\\n",
       "0                        [物流, 速度, 很快]   \n",
       "1                                  []   \n",
       "2  [小蜜蜂扩音器, 体积小巧, 方便随身携带, 收音效果, 各种场合]   \n",
       "\n",
       "                                        user_profile  token_usage  \\\n",
       "0  {'gender': '', 'occupation': '', 'consumption_...          917   \n",
       "1  {'gender': '', 'occupation': '老师', 'consumptio...          864   \n",
       "2  {'gender': '', 'occupation': '', 'consumption_...         1039   \n",
       "\n",
       "                              review_id test_version   solution        model  \\\n",
       "0  a20ff86a-ac32-4a47-aa9c-c1d57282274c            1  AI自打标：不限定  gpt-4o-mini   \n",
       "1  5bc677ce-6e8c-454d-af13-9cfabd5b9519            1  AI自打标：不限定  gpt-4o-mini   \n",
       "2  9a77524d-e75e-45e1-9ebf-cdb71f6b5073            1  AI自打标：不限定  gpt-4o-mini   \n",
       "\n",
       "  topic polarity  confidence related_text related_comment  \n",
       "0    物流       好评         0.9       物流速度很快                  \n",
       "1                        NaN          NaN                  \n",
       "2   便携性       好评         0.9  体积小巧，方便随身携带                  "
      ]
     },
     "execution_count": 86,
     "metadata": {},
     "output_type": "execute_result"
    }
   ],
   "source": [
    "review_result_df_topic_exploded.head(3)"
   ]
  },
  {
   "cell_type": "code",
   "execution_count": 87,
   "metadata": {},
   "outputs": [],
   "source": [
    "review_result_df_profile_exploded =pd.concat([review_result_df,review_result_df['user_profile'].apply(pd.Series)], axis=1)\n",
    "review_result_df_profile_exploded = pd.merge(\n",
    "    review_result_df_profile_exploded,\n",
    "    kinyo_reviews_df,\n",
    "    on='review_id',\n",
    "    how='left'  # 可选：'inner', 'left', 'right', 'outer'\n",
    ")"
   ]
  },
  {
   "cell_type": "code",
   "execution_count": 88,
   "metadata": {},
   "outputs": [
    {
     "data": {
      "text/plain": [
       "Index(['_id_x', 'comment', 'product_topic_result', 'keyphrases',\n",
       "       'user_profile', 'token_usage', 'review_id', 'test_version', 'solution',\n",
       "       'model', 'gender', 'occupation', 'consumption_scene',\n",
       "       'consumption_motivation', 'consumption_frequency',\n",
       "       'consumption_satisfaction', 'consumption_unsatisfaction', '_id_y', '评论',\n",
       "       '商品规格', '评论时间', '评论来源', '客户ID', '商品SKU', '来源平台', '来源品牌', '数据类型', '商品名称',\n",
       "       '来源店铺'],\n",
       "      dtype='object')"
      ]
     },
     "execution_count": 88,
     "metadata": {},
     "output_type": "execute_result"
    }
   ],
   "source": [
    "review_result_df_profile_exploded.columns"
   ]
  },
  {
   "cell_type": "code",
   "execution_count": 89,
   "metadata": {},
   "outputs": [
    {
     "data": {
      "image/png": "[encoded data removed]",
      "text/plain": [
       "<Figure size 640x480 with 1 Axes>"
      ]
     },
     "metadata": {},
     "output_type": "display_data"
    }
   ],
   "source": [
    "top_n = 20  # 只显示前20个\n",
    "good_reviews = review_result_df_topic_exploded[review_result_df_topic_exploded['polarity'] == '好评']\n",
    "topic_counts = good_reviews['topic'].value_counts()\n",
    "topic_counts.head(top_n).plot(kind='bar')\n",
    "plt.xlabel('话题 (topic)')\n",
    "plt.ylabel('频数')\n",
    "plt.title('好评话题频数分布')\n",
    "plt.xticks(rotation=45)\n",
    "plt.tight_layout()\n",
    "plt.show()"
   ]
  },
  {
   "cell_type": "code",
   "execution_count": 90,
   "metadata": {},
   "outputs": [
    {
     "data": {
      "image/png": "[encoded data removed]",
      "text/plain": [
       "<Figure size 640x480 with 1 Axes>"
      ]
     },
     "metadata": {},
     "output_type": "display_data"
    }
   ],
   "source": [
    "# 差评\n",
    "bad_reviews = review_result_df_topic_exploded[review_result_df_topic_exploded['polarity'] == '差评']\n",
    "topic_counts = bad_reviews['topic'].value_counts()\n",
    "topic_counts.head(top_n).plot(kind='bar')\n",
    "plt.xlabel('话题 (topic)')\n",
    "plt.ylabel('频数')\n",
    "plt.title('差评话题频数分布')\n",
    "plt.xticks(rotation=45)\n",
    "plt.tight_layout()\n",
    "plt.show()"
   ]
  }
 ],
 "metadata": {
  "kernelspec": {
   "display_name": "base",
   "language": "python",
   "name": "python3"
  },
  "language_info": {
   "codemirror_mode": {
    "name": "ipython",
    "version": 3
   },
   "file_extension": ".py",
   "mimetype": "text/x-python",
   "name": "python",
   "nbconvert_exporter": "python",
   "pygments_lexer": "ipython3",
   "version": "3.11.7"
  }
 },
 "nbformat": 4,
 "nbformat_minor": 2
}
