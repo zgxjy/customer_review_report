{
 "cells": [
  {
   "cell_type": "markdown",
   "metadata": {
    "vscode": {
     "languageId": "plaintext"
    }
   },
   "source": [
    "# 0. 准备json数据"
   ]
  },
  {
   "cell_type": "code",
   "execution_count": null,
   "metadata": {},
   "outputs": [],
   "source": [
    "import pymongo\n",
    "import pandas as pd\n",
    "# MongoDB连接配置\n",
    "mongo_client = pymongo.MongoClient(\"mongodb://localhost:27017/\")\n",
    "kinyo_db = mongo_client[\"kinyo_db\"]\n",
    "kinyo_reviews_collection = kinyo_db[\"kinyo_new_reviews\"]\n",
    "kinyo_llm_results_collection = kinyo_db[\"kinyo_llm_results\"]\n",
    "kinyo_data_result = kinyo_db[\"kinyo_data_result\"]\n",
    "\n",
    "import matplotlib.pyplot as plt\n",
    "plt.rcParams['font.sans-serif'] = ['SimHei']  # 设置中文字体为黑体\n",
    "plt.rcParams['axes.unicode_minus'] = False    # 正常显示负号"
   ]
  },
  {
   "cell_type": "code",
   "execution_count": null,
   "metadata": {},
   "outputs": [],
   "source": [
    "# 1. 用户画像统计\n",
    "# 获取已处理的评论ID集合\n",
    "# 设置当前实验的 test_version 和 solution\n",
    "current_test_version = \"1\"\n",
    "current_solution = \"AI自打标：不限定\"\n",
    "print(\"test_version:\", current_test_version)\n",
    "print(\"solution:\", current_solution)\n",
    "kinyo_llm_results_collection.find_one({\"test_version\": current_test_version, \"solution\": current_solution})"
   ]
  },
  {
   "cell_type": "code",
   "execution_count": null,
   "metadata": {},
   "outputs": [],
   "source": [
    "from collections import Counter\n",
    "import json"
   ]
  },
  {
   "cell_type": "markdown",
   "metadata": {},
   "source": [
    "# 1. 画像数据"
   ]
  },
  {
   "cell_type": "markdown",
   "metadata": {},
   "source": [
    "## 统计画像数据"
   ]
  },
  {
   "cell_type": "code",
   "execution_count": null,
   "metadata": {},
   "outputs": [],
   "source": [
    "def profile_stats(collection, test_version, solution, fields):\n",
    "    cursor = collection.find({\n",
    "        \"test_version\": test_version,\n",
    "        \"solution\": solution\n",
    "    })\n",
    "\n",
    "    # 初始化每个字段的计数器\n",
    "    field_counters = {field: Counter() for field in fields}\n",
    "    total = 0\n",
    "\n",
    "    for doc in cursor:\n",
    "        user_profile = doc.get(\"user_profile\", {})\n",
    "        for field in fields:\n",
    "            value = user_profile.get(field, \"\")\n",
    "            field_counters[field][value] += 1\n",
    "        total += 1\n",
    "\n",
    "    # 组织结果\n",
    "    result = {}\n",
    "    for field, counter in field_counters.items():\n",
    "        field_result = []\n",
    "        for value, count in counter.items():\n",
    "            if value !=\"未知\" and value != \"未指定\":\n",
    "                field_result.append({\n",
    "                    \"value\": value,\n",
    "                    \"count\": count\n",
    "                })\n",
    "        result[field] = field_result\n",
    "\n",
    "    # print(json.dumps(result, ensure_ascii=False, indent=2))\n",
    "    return result\n",
    "\n",
    "# 用法示例\n",
    "fields = [\n",
    "    \"gender\", \"occupation\", \"consumption_scene\", \"consumption_motivation\",\n",
    "    \"consumption_frequency\", \"consumption_satisfaction\", \"consumption_unsatisfaction\"\n",
    "]\n",
    "fields = [\"new_\"+field for field in fields]\n",
    "profile_stats_json = profile_stats(kinyo_llm_results_collection, current_test_version, current_solution, fields)"
   ]
  },
  {
   "cell_type": "code",
   "execution_count": null,
   "metadata": {},
   "outputs": [],
   "source": [
    "profile_stats_json"
   ]
  },
  {
   "cell_type": "code",
   "execution_count": null,
   "metadata": {},
   "outputs": [],
   "source": [
    "def total_review(collection, test_version, solution):\n",
    "    cursor = collection.find({\n",
    "        \"test_version\": test_version,\n",
    "        \"solution\": solution\n",
    "    })\n",
    "    return len(list(cursor))"
   ]
  },
  {
   "cell_type": "code",
   "execution_count": null,
   "metadata": {},
   "outputs": [],
   "source": [
    "from datetime import datetime\n",
    "import uuid\n",
    "all_data_result_json = {\"test_version\": current_test_version, \"solution\": current_solution}\n",
    "all_data_result_json[\"user_profile\"] = profile_stats(kinyo_llm_results_collection, current_test_version, current_solution, fields)\n",
    "all_data_result_json[\"total_review\"] = total_review(kinyo_llm_results_collection, current_test_version, current_solution)\n",
    "all_data_result_json['process_time'] = datetime.now().strftime(\"%Y-%m-%d %H:%M:%S\")\n",
    "all_data_result_json['data_id'] = str(uuid.uuid4())"
   ]
  },
  {
   "cell_type": "markdown",
   "metadata": {},
   "source": [
    "## 局部摘要：画像内容"
   ]
  },
  {
   "cell_type": "code",
   "execution_count": null,
   "metadata": {},
   "outputs": [],
   "source": [
    "# imports\n",
    "import ast  # for converting embeddings saved as strings back to arrays\n",
    "from openai import OpenAI # for calling the OpenAI API\n",
    "import pandas as pd  # for storing text and embeddings data\n",
    "import tiktoken  # for counting tokens\n",
    "import os # for getting API token from env variable OPENAI_API_KEY\n",
    "from scipy import spatial  # for calculating vector similarities for search\n",
    "import json\n",
    "# create a list of models \n",
    "GPT_MODELS = [\"gpt-4o\", \"gpt-4o-mini\"]\n",
    "# models\n",
    "EMBEDDING_MODEL = \"BAAI/bge-base-zh\""
   ]
  },
  {
   "cell_type": "code",
   "execution_count": null,
   "metadata": {},
   "outputs": [],
   "source": [
    "# Set the proxy URL and port\n",
    "proxy_url = 'http://127.0.0.1'\n",
    "proxy_port = 6465 # !!!please replace it with your own port\n",
    "\n",
    "# Set the http_proxy and https_proxy environment variables\n",
    "os.environ['http_proxy'] = f'{proxy_url}:{proxy_port}'\n",
    "os.environ['https_proxy'] = f'{proxy_url}:{proxy_port}'\n",
    "\n",
    "client = OpenAI(api_key=os.getenv('OPEN_AI_KEY'))"
   ]
  },
  {
   "cell_type": "code",
   "execution_count": null,
   "metadata": {},
   "outputs": [],
   "source": [
    "# 检索用户数据的所有评论并进行摘要\n",
    "# step1. 检索用户相关数据的所有评论\n",
    "def get_comments_by_user_profile_field_mongo(collection, field, value):\n",
    "    \"\"\"\n",
    "    collection: MongoDB 集合对象\n",
    "    field: user_profile 下的字段名\n",
    "    value: 需要匹配的值\n",
    "    \"\"\"\n",
    "    query = {f\"user_profile.{field}\": value}\n",
    "    projection = {\"comment\": 1, \"_id\": 0}\n",
    "    return [doc[\"comment\"] for doc in collection.find(query, projection)]\n"
   ]
  },
  {
   "cell_type": "code",
   "execution_count": null,
   "metadata": {},
   "outputs": [],
   "source": [
    "from typing import List, Optional\n",
    "\n",
    "def get_summary(\n",
    "    reviews: List[str],\n",
    "    summary_direction: str,\n",
    "    direction_focus: str,\n",
    "    client,\n",
    "    model: str = \"gpt-4o-mini\"\n",
    ") -> Optional[str]:\n",
    "    \"\"\"\n",
    "    根据评论列表和总结方向，调用大模型生成50字以内总结。\n",
    "    :param reviews: 评论文本列表\n",
    "    :param summary_direction: 总结方向\n",
    "    :param direction_focus: 总结方向焦点\n",
    "    :param client: OpenAI或兼容API客户端对象\n",
    "    :param model: 使用的模型名称\n",
    "    :return: 总结内容（字符串），如出错返回None\n",
    "    \"\"\"\n",
    "    prompt = (\n",
    "        f\"# 任务\\n\"\n",
    "        f\"- 请你根据以下所有的评论，生成一个{summary_direction}方向关于{direction_focus}的总结，简单解释在这个方向下总结消费者的理由,只从评论中提取信息并总结，不添加其他信息\\n\"\n",
    "        f\"# 评论\\n\"\n",
    "        f\"- {reviews}\\n\"\n",
    "        f\"# 输出\\n\"\n",
    "        f\"- 50字以内的总结，只有总结内容，没有其他说明\"\n",
    "    )\n",
    "    try:\n",
    "        response = client.chat.completions.create(\n",
    "            model=model,\n",
    "            messages=[\n",
    "                {\"role\": \"system\", \"content\": \"你是一个专业的评论总结专家\"},\n",
    "                {\"role\": \"user\", \"content\": prompt}\n",
    "            ],\n",
    "            stream=False,\n",
    "        )\n",
    "        return response.choices[0].message.content\n",
    "    except Exception as e:\n",
    "        print(f\"调用大模型总结出错: {e}\")\n",
    "        return None"
   ]
  },
  {
   "cell_type": "code",
   "execution_count": null,
   "metadata": {},
   "outputs": [],
   "source": [
    "# [item['value'] for item in all_data_result_json['user_profile']['new_consumption_unsatisfaction']]"
   ]
  },
  {
   "cell_type": "code",
   "execution_count": null,
   "metadata": {},
   "outputs": [],
   "source": [
    "# 需要检索的字段\n",
    "fields = [\n",
    "    'new_consumption_motivation',\n",
    "    'new_consumption_satisfaction',\n",
    "    'new_consumption_unsatisfaction'\n",
    "]\n",
    "\n",
    "fields_dict = {\n",
    "    'new_consumption_motivation': '用户消费动机',\n",
    "    'new_consumption_satisfaction': '用户消费满意的原因',\n",
    "    'new_consumption_unsatisfaction': '用户消费不满的原因'\n",
    "}\n",
    "\n",
    "for field in fields:\n",
    "    focus_point_list = [item['value'] for item in all_data_result_json['user_profile'][field]]\n",
    "    print(\"#\"*50)\n",
    "    print(f\"现在正在处理：{field}方向下的用户评论总结\")\n",
    "    for focus_point in focus_point_list:\n",
    "        reviews_list =  get_comments_by_user_profile_field_mongo(kinyo_llm_results_collection, field, focus_point)\n",
    "        summary = get_summary(\n",
    "            reviews=reviews_list,\n",
    "            summary_direction=fields_dict[field],\n",
    "            direction_focus=focus_point,\n",
    "            client=client,\n",
    "            model=\"gpt-4o-mini\"\n",
    "        )\n",
    "        if summary:\n",
    "            print(\"#\"*25,focus_point,\"#\"*25)\n",
    "            print(f\"{field}方向下的{focus_point}总结：{summary}\")\n",
    "            # 更新数据\n",
    "            for item in all_data_result_json['user_profile'][field]:\n",
    "                if item['value'] == focus_point:\n",
    "                    item['summary'] = summary\n",
    "                    break  # 找到就退出\n",
    "        "
   ]
  },
  {
   "cell_type": "markdown",
   "metadata": {},
   "source": [
    "# 2. 话题摘要"
   ]
  },
  {
   "cell_type": "markdown",
   "metadata": {},
   "source": [
    "## 统计话题数据"
   ]
  },
  {
   "cell_type": "code",
   "execution_count": null,
   "metadata": {},
   "outputs": [],
   "source": [
    "from collections import Counter\n",
    "\n",
    "def topic_polarity_stats(collection, test_version, solution):\n",
    "    \"\"\"\n",
    "    统计每个 new_topic 下好评和差评的数量\n",
    "    \"\"\"\n",
    "    cursor = collection.find({\n",
    "        \"test_version\": test_version,\n",
    "        \"solution\": solution,\n",
    "        \"product_topic_result\": {\"$exists\": True, \"$ne\": []}\n",
    "    })\n",
    "\n",
    "    stats = {}  # {new_topic: {\"好评\": count, \"差评\": count，\"中评\": count，\"总数\": count}}\n",
    "\n",
    "    for doc in cursor:\n",
    "        for topic_item in doc.get(\"product_topic_result\", []):\n",
    "            new_topic = topic_item.get(\"new_topic\")\n",
    "            polarity = topic_item.get(\"polarity\")\n",
    "            if new_topic and polarity in (\"好评\", \"差评\", \"中评\"):\n",
    "                if new_topic not in stats:\n",
    "                    stats[new_topic] = {\"好评\": 0, \"差评\": 0, \"中评\": 0, \"总数\": 0}\n",
    "                stats[new_topic][polarity] += 1\n",
    "                stats[new_topic][\"总数\"] += 1\n",
    "\n",
    "    # 可选：去除没有好评和差评的topic\n",
    "    stats = {k: v for k, v in stats.items() if v[\"好评\"] > 0 or v[\"差评\"] > 0}\n",
    "    return stats\n",
    "\n",
    "# 用法示例\n",
    "topic_stats_json = topic_polarity_stats(\n",
    "    kinyo_llm_results_collection,\n",
    "    current_test_version,\n",
    "    current_solution\n",
    ")\n",
    "\n",
    "# 打印结果\n",
    "import json\n",
    "print(json.dumps(topic_stats_json, ensure_ascii=False, indent=2))"
   ]
  },
  {
   "cell_type": "code",
   "execution_count": null,
   "metadata": {},
   "outputs": [],
   "source": [
    "all_data_result_json[\"new_topic\"] = topic_stats_json"
   ]
  },
  {
   "cell_type": "code",
   "execution_count": null,
   "metadata": {},
   "outputs": [],
   "source": [
    "def get_comments_by_new_topic_and_polarity(collection, new_topic_value, polarity_value=\"好评\"):\n",
    "    \"\"\"\n",
    "    检索所有product_topic_result中new_topic等于指定值且polarity为好评的评论\n",
    "    :param collection: MongoDB集合对象\n",
    "    :param new_topic_value: 需要匹配的new_topic值\n",
    "    :param polarity_value: 需要匹配的极性（如'好评'），默认为'好评'\n",
    "    :return: 评论列表\n",
    "    \"\"\"\n",
    "    # 只查有product_topic_result的文档，减少数据量\n",
    "    cursor = collection.find(\n",
    "        {\"product_topic_result\": {\"$exists\": True, \"$ne\": []}},\n",
    "        {\"comment\": 1, \"product_topic_result\": 1, \"_id\": 0}\n",
    "    )\n",
    "    matched_comments = []\n",
    "    for doc in cursor:\n",
    "        for topic_item in doc.get(\"product_topic_result\", []):\n",
    "            if (\n",
    "                topic_item.get(\"new_topic\") == new_topic_value\n",
    "                and topic_item.get(\"polarity\") == polarity_value\n",
    "            ):\n",
    "                matched_comments.append(doc[\"comment\"])\n",
    "                break  # 一个评论只保留一次\n",
    "    return matched_comments\n",
    "\n",
    "# 用法举例\n",
    "comments = get_comments_by_new_topic_and_polarity(\n",
    "    kinyo_llm_results_collection,\n",
    "    new_topic_value=\"物流/物流速度\",  # 你要检索的new_topic\n",
    "    polarity_value=\"好评\"           # 你要检索的极性\n",
    ")\n",
    "print(comments)"
   ]
  },
  {
   "cell_type": "code",
   "execution_count": null,
   "metadata": {},
   "outputs": [],
   "source": [
    "# 极性定义\n",
    "good_polarity = '好评'\n",
    "bad_polarities = ['中评', '差评']  # 你可以根据实际数据调整\n",
    "\n",
    "topic_polarity_dict = {\n",
    "    '好评': '该主题下的好评总结',\n",
    "    '中差评': '该主题下的中差评总结'\n",
    "}\n",
    "\n",
    "# 如果没有 product_topic 字段，先创建一个\n",
    "if 'product_topic' not in all_data_result_json:\n",
    "    all_data_result_json['product_topic'] = {}\n",
    "\n",
    "for new_topic in all_data_result_json['new_topic']:\n",
    "    print(\"#\" * 50)\n",
    "    print(f\"现在正在处理 new_topic：{new_topic}\")\n",
    "\n",
    "    # 如果没有该 new_topic 的二级字典，先创建\n",
    "    if new_topic not in all_data_result_json['product_topic']:\n",
    "        all_data_result_json['product_topic'][new_topic] = {}\n",
    "\n",
    "    # 好评\n",
    "    reviews_good = get_comments_by_new_topic_and_polarity(\n",
    "        kinyo_llm_results_collection,\n",
    "        new_topic_value=new_topic,\n",
    "        polarity_value=good_polarity\n",
    "    )\n",
    "    summary_good = get_summary(\n",
    "        reviews=reviews_good,\n",
    "        summary_direction=topic_polarity_dict['好评'],\n",
    "        direction_focus=f\"{new_topic}\",\n",
    "        client=client,\n",
    "        model=\"gpt-4o-mini\"\n",
    "    )\n",
    "    if summary_good:\n",
    "        print(\"#\" * 25, f\"{new_topic} - 好评\", \"#\" * 25)\n",
    "        print(f\"{new_topic}下好评的总结：{summary_good}\")\n",
    "        all_data_result_json['new_topic'][new_topic]['好评摘要'] = summary_good\n",
    "\n",
    "    # 中差评合并\n",
    "    reviews_bad = []\n",
    "    for polarity in bad_polarities:\n",
    "        reviews_bad.extend(get_comments_by_new_topic_and_polarity(\n",
    "            kinyo_llm_results_collection,\n",
    "            new_topic_value=new_topic,\n",
    "            polarity_value=polarity\n",
    "        ))\n",
    "    summary_bad = get_summary(\n",
    "        reviews=reviews_bad,\n",
    "        summary_direction=topic_polarity_dict['中差评'],\n",
    "        direction_focus=f\"{new_topic}下的中差评的原因\",\n",
    "        client=client,\n",
    "        model=\"gpt-4o-mini\"\n",
    "    )\n",
    "    if summary_bad:\n",
    "        print(\"#\" * 25, f\"{new_topic} - 中差评\", \"#\" * 25)\n",
    "        print(f\"{new_topic}下中差评的总结：{summary_bad}\")\n",
    "        all_data_result_json['new_topic'][new_topic]['中差评摘要'] = summary_bad"
   ]
  },
  {
   "cell_type": "markdown",
   "metadata": {},
   "source": [
    "# 3. 数据存储"
   ]
  },
  {
   "cell_type": "code",
   "execution_count": null,
   "metadata": {},
   "outputs": [],
   "source": [
    "kinyo_data_result.insert_one(all_data_result_json)"
   ]
  },
  {
   "cell_type": "code",
   "execution_count": null,
   "metadata": {},
   "outputs": [],
   "source": []
  }
 ],
 "metadata": {
  "kernelspec": {
   "display_name": "base",
   "language": "python",
   "name": "python3"
  },
  "language_info": {
   "codemirror_mode": {
    "name": "ipython",
    "version": 3
   },
   "file_extension": ".py",
   "mimetype": "text/x-python",
   "name": "python",
   "nbconvert_exporter": "python",
   "pygments_lexer": "ipython3",
   "version": "3.11.7"
  }
 },
 "nbformat": 4,
 "nbformat_minor": 2
}
