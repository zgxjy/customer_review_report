{
 "cells": [
  {
   "cell_type": "code",
   "execution_count": 1,
   "metadata": {},
   "outputs": [],
   "source": [
    "import pymongo\n",
    "import pandas as pd\n",
    "# MongoDB连接配置\n",
    "mongo_client = pymongo.MongoClient(\"mongodb://localhost:27017/\")\n",
    "kinyo_db = mongo_client[\"kinyo_db\"]\n",
    "kinyo_reviews_collection = kinyo_db[\"kinyo_new_reviews\"]\n",
    "kinyo_labels_collection = kinyo_db[\"kinyo_new_labels\"]\n",
    "kinyo_llm_results_collection = kinyo_db[\"kinyo_new_llm_results\"]"
   ]
  },
  {
   "cell_type": "code",
   "execution_count": 8,
   "metadata": {},
   "outputs": [],
   "source": [
    "# 评论数据导入\n",
    "reviews_df = pd.read_excel(\"./origin_data/多数据合并-2025-04-09-pro-1399条.xlsx\")\n",
    "reviews_df = reviews_df[['评论', '商品规格', '评论时间', '评论来源', '客户ID', '商品SKU', '来源平台', '来源品牌', '数据类型',\n",
    "       '商品名称', '来源店铺', 'review_id']]"
   ]
  },
  {
   "cell_type": "code",
   "execution_count": 9,
   "metadata": {},
   "outputs": [
    {
     "data": {
      "text/html": [
       "<div>\n",
       "<style scoped>\n",
       "    .dataframe tbody tr th:only-of-type {\n",
       "        vertical-align: middle;\n",
       "    }\n",
       "\n",
       "    .dataframe tbody tr th {\n",
       "        vertical-align: top;\n",
       "    }\n",
       "\n",
       "    .dataframe thead th {\n",
       "        text-align: right;\n",
       "    }\n",
       "</style>\n",
       "<table border=\"1\" class=\"dataframe\">\n",
       "  <thead>\n",
       "    <tr style=\"text-align: right;\">\n",
       "      <th></th>\n",
       "      <th>评论</th>\n",
       "      <th>商品规格</th>\n",
       "      <th>评论时间</th>\n",
       "      <th>评论来源</th>\n",
       "      <th>客户ID</th>\n",
       "      <th>商品SKU</th>\n",
       "      <th>来源平台</th>\n",
       "      <th>来源品牌</th>\n",
       "      <th>数据类型</th>\n",
       "      <th>商品名称</th>\n",
       "      <th>来源店铺</th>\n",
       "      <th>review_id</th>\n",
       "    </tr>\n",
       "  </thead>\n",
       "  <tbody>\n",
       "    <tr>\n",
       "      <th>0</th>\n",
       "      <td>这款小蜜蜂扩音器体积小巧，方便随身携带，满足我各种场合的使用，收音效果也是非常不错的</td>\n",
       "      <td>【尊享白】双芯防啸叫✅77mm大喇叭✅28小时长续航✅赠金属链</td>\n",
       "      <td>2025-04-10</td>\n",
       "      <td>NaN</td>\n",
       "      <td>武**m</td>\n",
       "      <td>877779535954</td>\n",
       "      <td>淘宝</td>\n",
       "      <td>金运</td>\n",
       "      <td>本品</td>\n",
       "      <td>金运M10无线领夹式小蜜蜂扩音器教师专用上课讲麦克风大音量喇叭</td>\n",
       "      <td>金运旗舰店</td>\n",
       "      <td>9a77524d-e75e-45e1-9ebf-cdb71f6b5073</td>\n",
       "    </tr>\n",
       "    <tr>\n",
       "      <th>1</th>\n",
       "      <td>颜值非常高，好看，质量也不错，音质挺好的</td>\n",
       "      <td>经典有线版丨粉色</td>\n",
       "      <td>2025-04-10</td>\n",
       "      <td>海外</td>\n",
       "      <td>阿***贝</td>\n",
       "      <td>100133339041</td>\n",
       "      <td>京东</td>\n",
       "      <td>索爱</td>\n",
       "      <td>竞品</td>\n",
       "      <td>索爱（soaiy）655无线磁吸领夹小蜜蜂扩音器教师专用蓝牙音箱音响防啸叫TF卡喇叭磁吸麦...</td>\n",
       "      <td>索爱影音京东自营官方旗舰店</td>\n",
       "      <td>1f325f9f-1ec3-4d15-8522-7b69dd6e4902</td>\n",
       "    </tr>\n",
       "    <tr>\n",
       "      <th>2</th>\n",
       "      <td>太好用了，老师们的福音，同事都在问我在哪买的！终于不用扯着嗓子喊了！！而且麦克风靠近还不会有...</td>\n",
       "      <td>热销无线领夹版丨粉色</td>\n",
       "      <td>2025-04-10</td>\n",
       "      <td>山东</td>\n",
       "      <td>E***x</td>\n",
       "      <td>100133339041</td>\n",
       "      <td>京东</td>\n",
       "      <td>索爱</td>\n",
       "      <td>竞品</td>\n",
       "      <td>索爱（soaiy）655无线磁吸领夹小蜜蜂扩音器教师专用蓝牙音箱音响防啸叫TF卡喇叭磁吸麦...</td>\n",
       "      <td>索爱影音京东自营官方旗舰店</td>\n",
       "      <td>f0b890fe-4b16-4613-a0d5-a42cc8da250e</td>\n",
       "    </tr>\n",
       "    <tr>\n",
       "      <th>3</th>\n",
       "      <td>声音很大，外观也好看</td>\n",
       "      <td>经典有线版丨粉色</td>\n",
       "      <td>2025-04-10</td>\n",
       "      <td>河南</td>\n",
       "      <td>j***p</td>\n",
       "      <td>100133339041</td>\n",
       "      <td>京东</td>\n",
       "      <td>索爱</td>\n",
       "      <td>竞品</td>\n",
       "      <td>索爱（soaiy）655无线磁吸领夹小蜜蜂扩音器教师专用蓝牙音箱音响防啸叫TF卡喇叭磁吸麦...</td>\n",
       "      <td>索爱影音京东自营官方旗舰店</td>\n",
       "      <td>e136dabe-e0a8-41d1-9e7e-f9381abd6100</td>\n",
       "    </tr>\n",
       "    <tr>\n",
       "      <th>4</th>\n",
       "      <td>售后服务贴心，购买安心有保障</td>\n",
       "      <td>经典有线版丨绿色</td>\n",
       "      <td>2025-04-10</td>\n",
       "      <td>广东</td>\n",
       "      <td>4***9</td>\n",
       "      <td>100133339041</td>\n",
       "      <td>京东</td>\n",
       "      <td>索爱</td>\n",
       "      <td>竞品</td>\n",
       "      <td>索爱（soaiy）655无线磁吸领夹小蜜蜂扩音器教师专用蓝牙音箱音响防啸叫TF卡喇叭磁吸麦...</td>\n",
       "      <td>索爱影音京东自营官方旗舰店</td>\n",
       "      <td>644e7d96-fe79-4702-9872-e7163ceb8a5b</td>\n",
       "    </tr>\n",
       "  </tbody>\n",
       "</table>\n",
       "</div>"
      ],
      "text/plain": [
       "                                                  评论  \\\n",
       "0         这款小蜜蜂扩音器体积小巧，方便随身携带，满足我各种场合的使用，收音效果也是非常不错的   \n",
       "1                               颜值非常高，好看，质量也不错，音质挺好的   \n",
       "2  太好用了，老师们的福音，同事都在问我在哪买的！终于不用扯着嗓子喊了！！而且麦克风靠近还不会有...   \n",
       "3                                         声音很大，外观也好看   \n",
       "4                                     售后服务贴心，购买安心有保障   \n",
       "\n",
       "                              商品规格        评论时间 评论来源    客户ID         商品SKU  \\\n",
       "0  【尊享白】双芯防啸叫✅77mm大喇叭✅28小时长续航✅赠金属链  2025-04-10  NaN    武**m  877779535954   \n",
       "1                         经典有线版丨粉色  2025-04-10   海外   阿***贝  100133339041   \n",
       "2                       热销无线领夹版丨粉色  2025-04-10   山东   E***x  100133339041   \n",
       "3                         经典有线版丨粉色  2025-04-10   河南   j***p  100133339041   \n",
       "4                         经典有线版丨绿色  2025-04-10   广东   4***9  100133339041   \n",
       "\n",
       "  来源平台 来源品牌 数据类型                                               商品名称  \\\n",
       "0   淘宝   金运   本品                    金运M10无线领夹式小蜜蜂扩音器教师专用上课讲麦克风大音量喇叭   \n",
       "1   京东   索爱   竞品   索爱（soaiy）655无线磁吸领夹小蜜蜂扩音器教师专用蓝牙音箱音响防啸叫TF卡喇叭磁吸麦...   \n",
       "2   京东   索爱   竞品   索爱（soaiy）655无线磁吸领夹小蜜蜂扩音器教师专用蓝牙音箱音响防啸叫TF卡喇叭磁吸麦...   \n",
       "3   京东   索爱   竞品   索爱（soaiy）655无线磁吸领夹小蜜蜂扩音器教师专用蓝牙音箱音响防啸叫TF卡喇叭磁吸麦...   \n",
       "4   京东   索爱   竞品   索爱（soaiy）655无线磁吸领夹小蜜蜂扩音器教师专用蓝牙音箱音响防啸叫TF卡喇叭磁吸麦...   \n",
       "\n",
       "            来源店铺                             review_id  \n",
       "0          金运旗舰店  9a77524d-e75e-45e1-9ebf-cdb71f6b5073  \n",
       "1  索爱影音京东自营官方旗舰店  1f325f9f-1ec3-4d15-8522-7b69dd6e4902  \n",
       "2  索爱影音京东自营官方旗舰店  f0b890fe-4b16-4613-a0d5-a42cc8da250e  \n",
       "3  索爱影音京东自营官方旗舰店  e136dabe-e0a8-41d1-9e7e-f9381abd6100  \n",
       "4  索爱影音京东自营官方旗舰店  644e7d96-fe79-4702-9872-e7163ceb8a5b  "
      ]
     },
     "execution_count": 9,
     "metadata": {},
     "output_type": "execute_result"
    }
   ],
   "source": [
    "reviews_df.head()"
   ]
  },
  {
   "cell_type": "code",
   "execution_count": 10,
   "metadata": {},
   "outputs": [
    {
     "data": {
      "text/plain": [
       "<pymongo.results.InsertManyResult at 0x15171d17d30>"
      ]
     },
     "execution_count": 10,
     "metadata": {},
     "output_type": "execute_result"
    }
   ],
   "source": [
    "kinyo_reviews_collection.insert_many(reviews_df.to_dict('records'))"
   ]
  },
  {
   "cell_type": "code",
   "execution_count": null,
   "metadata": {},
   "outputs": [],
   "source": []
  }
 ],
 "metadata": {
  "kernelspec": {
   "display_name": "base",
   "language": "python",
   "name": "python3"
  },
  "language_info": {
   "codemirror_mode": {
    "name": "ipython",
    "version": 3
   },
   "file_extension": ".py",
   "mimetype": "text/x-python",
   "name": "python",
   "nbconvert_exporter": "python",
   "pygments_lexer": "ipython3",
   "version": "3.11.7"
  }
 },
 "nbformat": 4,
 "nbformat_minor": 2
}
